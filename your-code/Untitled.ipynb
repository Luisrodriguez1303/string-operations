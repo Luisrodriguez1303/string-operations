{
 "cells": [
  {
   "cell_type": "code",
   "execution_count": 2,
   "id": "d38add1a-5d32-44b0-8826-da91fcb3cae5",
   "metadata": {},
   "outputs": [],
   "source": [
    "def nth_fib(n):\n",
    "    if n < 2:\n",
    "        return n\n",
    "    else:\n",
    "        # fn = fn-1 + fn-2\n",
    "        return nth_fib(n-1) + nth_fib(n-2)"
   ]
  },
  {
   "cell_type": "code",
   "execution_count": 1,
   "id": "c0608254-8274-4147-933f-144cfb333193",
   "metadata": {},
   "outputs": [],
   "source": [
    "from github import Github"
   ]
  },
  {
   "cell_type": "code",
   "execution_count": 2,
   "id": "e69280dd-49e8-49da-a360-c49d559f4034",
   "metadata": {},
   "outputs": [
    {
     "ename": "SyntaxError",
     "evalue": "unexpected EOF while parsing (Temp/ipykernel_1952/2462064219.py, line 1)",
     "output_type": "error",
     "traceback": [
      "\u001b[1;36m  File \u001b[1;32m\"C:\\Users\\luisr\\AppData\\Local\\Temp/ipykernel_1952/2462064219.py\"\u001b[1;36m, line \u001b[1;32m1\u001b[0m\n\u001b[1;33m    g = Github(os.getenv('token_git2')\u001b[0m\n\u001b[1;37m                                       ^\u001b[0m\n\u001b[1;31mSyntaxError\u001b[0m\u001b[1;31m:\u001b[0m unexpected EOF while parsing\n"
     ]
    }
   ],
   "source": [
    "g = Github(os.getenv('token_git2') "
   ]
  },
  {
   "cell_type": "code",
   "execution_count": 1,
   "id": "fe56591a-c9d5-429c-b811-4483236b320c",
   "metadata": {},
   "outputs": [],
   "source": [
    "import re\n",
    "import requests\n",
    "import xml.etree.ElementTree as ET"
   ]
  },
  {
   "cell_type": "code",
   "execution_count": 2,
   "id": "ac8e56ea-bfd2-4c51-9926-75f18f0b3b0f",
   "metadata": {},
   "outputs": [],
   "source": [
    "respo = requests.get(\"https://www.inegi.org.mx/rss/noticias/xmlfeeds?p=2,1\")"
   ]
  },
  {
   "cell_type": "code",
   "execution_count": 3,
   "id": "2af3fb49-e408-47d3-a25f-ea91564a0ca6",
   "metadata": {},
   "outputs": [
    {
     "data": {
      "text/plain": [
       "200"
      ]
     },
     "execution_count": 3,
     "metadata": {},
     "output_type": "execute_result"
    }
   ],
   "source": [
    "respo.status_code"
   ]
  },
  {
   "cell_type": "code",
   "execution_count": 4,
   "id": "e15618b2-2b97-412a-805e-d71995bbe2f7",
   "metadata": {},
   "outputs": [],
   "source": [
    "noticias = respo.content"
   ]
  },
  {
   "cell_type": "code",
   "execution_count": 5,
   "id": "7440598b-367f-40c7-939f-e03c10d14364",
   "metadata": {},
   "outputs": [
    {
     "data": {
      "text/plain": [
       "b'<rss version=\"2.0\" encoding=\"UTF-8\"><channel><description>Canal de noticias del INEGI</description><'"
      ]
     },
     "execution_count": 5,
     "metadata": {},
     "output_type": "execute_result"
    }
   ],
   "source": [
    "noticias [:100]"
   ]
  },
  {
   "cell_type": "code",
   "execution_count": null,
   "id": "1eb528dd-53c0-4c0d-a8f2-8a92ddc6f0e4",
   "metadata": {},
   "outputs": [],
   "source": []
  }
 ],
 "metadata": {
  "kernelspec": {
   "display_name": "Python 3 (ipykernel)",
   "language": "python",
   "name": "python3"
  },
  "language_info": {
   "codemirror_mode": {
    "name": "ipython",
    "version": 3
   },
   "file_extension": ".py",
   "mimetype": "text/x-python",
   "name": "python",
   "nbconvert_exporter": "python",
   "pygments_lexer": "ipython3",
   "version": "3.9.7"
  }
 },
 "nbformat": 4,
 "nbformat_minor": 5
}
